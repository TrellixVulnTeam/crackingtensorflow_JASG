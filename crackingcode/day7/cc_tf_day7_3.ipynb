{
 "cells": [
  {
   "cell_type": "code",
   "execution_count": null,
   "metadata": {
    "collapsed": true
   },
   "outputs": [],
   "source": [
    "#Threading and Queues\n",
    "# Thread body: loop until the coordinator indicates a stop was requested.\n",
    "# If some condition becomes true, ask the coordinator to stop.\n",
    "def MyLoop(coord):\n",
    "  while not coord.should_stop():\n",
    "    ...do something...\n",
    "    if ...some condition...:\n",
    "      coord.request_stop()\n",
    "\n",
    "# Main thread: create a coordinator.\n",
    "coord = tf.train.Coordinator()\n",
    "\n",
    "# Create 10 threads that run 'MyLoop()'\n",
    "threads = [threading.Thread(target=MyLoop, args=(coord,)) for i in xrange(10)]\n",
    "\n",
    "# Start the threads and wait for all of them to stop.\n",
    "for t in threads:\n",
    "  t.start()\n",
    "coord.join(threads)"
   ]
  },
  {
   "cell_type": "code",
   "execution_count": null,
   "metadata": {
    "collapsed": true
   },
   "outputs": [],
   "source": [
    "example = ...ops to create one example...\n",
    "# Create a queue, and an op that enqueues examples one at a time in the queue.\n",
    "queue = tf.RandomShuffleQueue(...)\n",
    "enqueue_op = queue.enqueue(example)\n",
    "# Create a training graph that starts by dequeuing a batch of examples.\n",
    "inputs = queue.dequeue_many(batch_size)\n",
    "train_op = ...use 'inputs' to build the training part of the graph..."
   ]
  },
  {
   "cell_type": "code",
   "execution_count": 2,
   "metadata": {},
   "outputs": [
    {
     "ename": "NameError",
     "evalue": "name 'queue' is not defined",
     "traceback": [
      "\u001b[0;31m---------------------------------------------------------------------------\u001b[0m",
      "\u001b[0;31mNameError\u001b[0m                                 Traceback (most recent call last)",
      "\u001b[0;32m<ipython-input-2-1c56a76e5c93>\u001b[0m in \u001b[0;36m<module>\u001b[0;34m()\u001b[0m\n\u001b[1;32m      2\u001b[0m \u001b[0;31m# Create a queue runner that will run 4 threads in parallel to enqueue\u001b[0m\u001b[0;34m\u001b[0m\u001b[0;34m\u001b[0m\u001b[0m\n\u001b[1;32m      3\u001b[0m \u001b[0;31m# examples.\u001b[0m\u001b[0;34m\u001b[0m\u001b[0;34m\u001b[0m\u001b[0m\n\u001b[0;32m----> 4\u001b[0;31m \u001b[0mqr\u001b[0m \u001b[0;34m=\u001b[0m \u001b[0mtf\u001b[0m\u001b[0;34m.\u001b[0m\u001b[0mtrain\u001b[0m\u001b[0;34m.\u001b[0m\u001b[0mQueueRunner\u001b[0m\u001b[0;34m(\u001b[0m\u001b[0mqueue\u001b[0m\u001b[0;34m,\u001b[0m \u001b[0;34m[\u001b[0m\u001b[0menqueue_op\u001b[0m\u001b[0;34m]\u001b[0m \u001b[0;34m*\u001b[0m \u001b[0;36m4\u001b[0m\u001b[0;34m)\u001b[0m\u001b[0;34m\u001b[0m\u001b[0m\n\u001b[0m\u001b[1;32m      5\u001b[0m \u001b[0;34m\u001b[0m\u001b[0m\n\u001b[1;32m      6\u001b[0m \u001b[0;31m# Launch the graph.\u001b[0m\u001b[0;34m\u001b[0m\u001b[0;34m\u001b[0m\u001b[0m\n",
      "\u001b[0;31mNameError\u001b[0m: name 'queue' is not defined"
     ],
     "output_type": "error"
    }
   ],
   "source": [
    "import tensorflow as tf\n",
    "# Create a queue runner that will run 4 threads in parallel to enqueue\n",
    "# examples.\n",
    "qr = tf.train.QueueRunner(queue, [enqueue_op] * 4)\n",
    "\n",
    "# Launch the graph.\n",
    "sess = tf.Session()\n",
    "# Create a coordinator, launch the queue runner threads.\n",
    "coord = tf.train.Coordinator()\n",
    "enqueue_threads = qr.create_threads(sess, coord=coord, start=True)\n",
    "# Run the training loop, controlling termination with the coordinator.\n",
    "for step in xrange(1000000):\n",
    "    if coord.should_stop():\n",
    "        break\n",
    "    sess.run(train_op)\n",
    "# When done, ask the threads to stop.\n",
    "coord.request_stop()\n",
    "# And wait for them to actually do it.\n",
    "coord.join(enqueue_threads)"
   ]
  },
  {
   "cell_type": "code",
   "execution_count": null,
   "metadata": {
    "collapsed": true
   },
   "outputs": [],
   "source": [
    "try:\n",
    "    for step in xrange(1000000):\n",
    "        if coord.should_stop():\n",
    "            break\n",
    "        sess.run(train_op)\n",
    "except Exception, e:\n",
    "    # Report exceptions to the coordinator.\n",
    "    coord.request_stop(e)\n",
    "finally:\n",
    "    # Terminate as usual. It is safe to call `coord.request_stop()` twice.\n",
    "    coord.request_stop()\n",
    "    coord.join(threads)"
   ]
  }
 ],
 "metadata": {
  "kernelspec": {
   "display_name": "Python 2",
   "language": "python",
   "name": "python2"
  },
  "language_info": {
   "codemirror_mode": {
    "name": "ipython",
    "version": 2.0
   },
   "file_extension": ".py",
   "mimetype": "text/x-python",
   "name": "python",
   "nbconvert_exporter": "python",
   "pygments_lexer": "ipython2",
   "version": "2.7.13"
  }
 },
 "nbformat": 4,
 "nbformat_minor": 0
}