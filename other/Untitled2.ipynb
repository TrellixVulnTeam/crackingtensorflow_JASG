{
 "cells": [
  {
   "cell_type": "code",
   "execution_count": 14,
   "metadata": {},
   "outputs": [
    {
     "name": "stdout",
     "output_type": "stream",
     "text": [
      "Finished Diff.\n"
     ]
    }
   ],
   "source": [
    "import codecs\n",
    "a1 = open('/Users/lipingzhang/Desktop/tmp/a.txt')\n",
    "\n",
    "b1 = open('/Users/lipingzhang/Desktop/tmp/b.txt')\n",
    "\n",
    "da = set([])\n",
    "db = set([])\n",
    "\n",
    "output = codecs.open('/Users/lipingzhang/Desktop/tmp/c.diff', 'w','utf-8')\n",
    "\n",
    "for line in a1:\n",
    "    sku1 = line.strip()\n",
    "    if sku1 not in da:\n",
    "        da.add(sku1)\n",
    "for line in b1:\n",
    "    sku2 = line.strip()\n",
    "    if sku2 not in db:\n",
    "        db.add(sku2)\n",
    "        \n",
    "dc = da.difference(db)\n",
    "\n",
    "for diff in set(dc):\n",
    "    output.write(str(diff))\n",
    "    output.write(\"\\n\")\n",
    "    \n",
    "output.write(\"\\n\")\n",
    "a1.close()\n",
    "b1.close()\n",
    "print (\"Finished Diff.\")"
   ]
  },
  {
   "cell_type": "code",
   "execution_count": null,
   "metadata": {
    "collapsed": true
   },
   "outputs": [],
   "source": []
  },
  {
   "cell_type": "code",
   "execution_count": null,
   "metadata": {
    "collapsed": true
   },
   "outputs": [],
   "source": []
  }
 ],
 "metadata": {
  "kernelspec": {
   "display_name": "Python 3",
   "language": "python",
   "name": "python3"
  },
  "language_info": {
   "codemirror_mode": {
    "name": "ipython",
    "version": 3
   },
   "file_extension": ".py",
   "mimetype": "text/x-python",
   "name": "python",
   "nbconvert_exporter": "python",
   "pygments_lexer": "ipython3",
   "version": "3.6.1"
  }
 },
 "nbformat": 4,
 "nbformat_minor": 2
}
