{
 "cells": [
  {
   "cell_type": "code",
   "execution_count": 2,
   "metadata": {},
   "outputs": [],
   "source": [
    "#Variables: Creation, Initialization, Saving, and Loading\n",
    "import tensorflow as tf\n",
    "weight = tf.Variable(tf.random_normal([784,200], stdev=0.35), name=\"weights\")\n",
    "sess = tf.Variable(tf.zeros([200]), name=\"biases\")"
   ]
  },
  {
   "cell_type": "code",
   "execution_count": 3,
   "metadata": {},
   "outputs": [
    {
     "ename": "SyntaxError",
     "evalue": "invalid syntax (<ipython-input-3-057a8675653d>, line 3)",
     "output_type": "error",
     "traceback": [
      "\u001b[0;36m  File \u001b[0;32m\"<ipython-input-3-057a8675653d>\"\u001b[0;36m, line \u001b[0;32m3\u001b[0m\n\u001b[0;31m    v = tf.Variable(...)\u001b[0m\n\u001b[0m                    ^\u001b[0m\n\u001b[0;31mSyntaxError\u001b[0m\u001b[0;31m:\u001b[0m invalid syntax\n"
     ]
    }
   ],
   "source": [
    "# Pin a variable to CPU.\n",
    "with tf.device(\"/cpu:0\"):\n",
    "  v = tf.Variable(...)\n",
    "\n",
    "# Pin a variable to GPU.\n",
    "with tf.device(\"/gpu:0\"):\n",
    "  v = tf.Variable(...)\n",
    "\n",
    "# Pin a variable to a particular parameter server task.\n",
    "with tf.device(\"/job:ps/task:7\"):\n",
    "  v = tf.Variable(...)"
   ]
  },
  {
   "cell_type": "code",
   "execution_count": null,
   "metadata": {
    "collapsed": true
   },
   "outputs": [],
   "source": [
    "# Create two variables.\n",
    "weights = tf.Variable(tf.random_normal([784, 200], stddev=0.35),\n",
    "                      name=\"weights\")\n",
    "biases = tf.Variable(tf.zeros([200]), name=\"biases\")\n",
    "...\n",
    "# Add an op to initialize the variables.\n",
    "init_op = tf.global_variables_initializer()\n",
    "\n",
    "# Later, when launching the model\n",
    "with tf.Session() as sess:\n",
    "  # Run the init operation.\n",
    "  sess.run(init_op)\n",
    "  ...\n",
    "  # Use the model\n",
    "  ..."
   ]
  },
  {
   "cell_type": "code",
   "execution_count": 5,
   "metadata": {},
   "outputs": [
    {
     "ename": "SyntaxError",
     "evalue": "invalid syntax (<ipython-input-5-4b08d198482c>, line 1)",
     "output_type": "error",
     "traceback": [
      "\u001b[0;36m  File \u001b[0;32m\"<ipython-input-5-4b08d198482c>\"\u001b[0;36m, line \u001b[0;32m1\u001b[0m\n\u001b[0;31m    Variables: Creation, Initialization, Saving, and Loading\u001b[0m\n\u001b[0m             ^\u001b[0m\n\u001b[0;31mSyntaxError\u001b[0m\u001b[0;31m:\u001b[0m invalid syntax\n"
     ]
    }
   ],
   "source": [
    "Variables: Creation, Initialization, Saving, and Loading\n",
    "\n",
    "Contents\n",
    "Creation\n",
    "Device placement\n",
    "Initialization\n",
    "Initialization from another Variable\n",
    "Custom Initialization\n",
    "Saving and Restoring\n",
    "Checkpoint Files\n",
    "Saving Variables\n",
    "Restoring Variables\n",
    "Choosing which Variables to Save and Restore\n",
    "\n",
    "When you train a model, you use variables to hold and update parameters. Variables are in-memory buffers containing tensors. They must be explicitly initialized and can be saved to disk during and after training. You can later restore saved values to exercise or analyze the model.\n",
    "\n",
    "This document references the following TensorFlow classes. Follow the links to their reference manual for a complete description of their API:\n",
    "\n",
    "The tf.Variable class.\n",
    "The tf.train.Saver class.\n",
    "Creation\n",
    "\n",
    "When you create a Variable you pass a Tensor as its initial value to the Variable() constructor. TensorFlow provides a collection of ops that produce tensors often used for initialization from constants or random values.\n",
    "\n",
    "Note that all these ops require you to specify the shape of the tensors. That shape automatically becomes the shape of the variable. Variables generally have a fixed shape, but TensorFlow provides advanced mechanisms to reshape variables.\n",
    "\n",
    "# Create two variables.\n",
    "weights = tf.Variable(tf.random_normal([784, 200], stddev=0.35),\n",
    "                      name=\"weights\")\n",
    "biases = tf.Variable(tf.zeros([200]), name=\"biases\")\n",
    "Calling tf.Variable() adds several ops to the graph:\n",
    "\n",
    "A variable op that holds the variable value.\n",
    "An initializer op that sets the variable to its initial value. This is actually a tf.assign op.\n",
    "The ops for the initial value, such as the zeros op for the biases variable in the example are also added to the graph.\n",
    "The value returned by tf.Variable() value is an instance of the Python class tf.Variable.\n",
    "\n",
    "Device placement\n",
    "\n",
    "A variable can be pinned to a particular device when it is created, using a with tf.device(...): block:\n",
    "\n",
    "# Pin a variable to CPU.\n",
    "with tf.device(\"/cpu:0\"):\n",
    "  v = tf.Variable(...)\n",
    "\n",
    "# Pin a variable to GPU.\n",
    "with tf.device(\"/gpu:0\"):\n",
    "  v = tf.Variable(...)\n",
    "\n",
    "# Pin a variable to a particular parameter server task.\n",
    "with tf.device(\"/job:ps/task:7\"):\n",
    "  v = tf.Variable(...)\n",
    "N.B. Operations that mutate a variable, such as tf.Variable.assign and the parameter update operations in a tf.train.Optimizer must run on the same device as the variable. Incompatible device placement directives will be ignored when creating these operations.\n",
    "\n",
    "Device placement is particularly important when running in a replicated setting. See tf.train.replica_device_setter for details of a device function that can simplify the configuration for devices for a replicated model.\n",
    "\n",
    "Initialization\n",
    "\n",
    "Variable initializers must be run explicitly before other ops in your model can be run. The easiest way to do that is to add an op that runs all the variable initializers, and run that op before using the model.\n",
    "\n",
    "You can alternatively restore variable values from a checkpoint file, see below.\n",
    "\n",
    "Use tf.global_variables_initializer() to add an op to run variable initializers. Only run that op after you have fully constructed your model and launched it in a session.\n",
    "\n",
    "# Create two variables.\n",
    "weights = tf.Variable(tf.random_normal([784, 200], stddev=0.35),\n",
    "                      name=\"weights\")\n",
    "biases = tf.Variable(tf.zeros([200]), name=\"biases\")\n",
    "...\n",
    "# Add an op to initialize the variables.\n",
    "init_op = tf.global_variables_initializer()\n",
    "\n",
    "# Later, when launching the model\n",
    "with tf.Session() as sess:\n",
    "  # Run the init operation.\n",
    "  sess.run(init_op)\n",
    "  ...\n",
    "  # Use the model\n",
    "  ..."
   ]
  },
  {
   "cell_type": "code",
   "execution_count": 6,
   "metadata": {
    "collapsed": true
   },
   "outputs": [],
   "source": [
    "# Create a variable with a random value.\n",
    "weights = tf.Variable(tf.random_normal([784, 200], stddev=0.35),\n",
    "                      name=\"weights\")\n",
    "# Create another variable with the same value as 'weights'.\n",
    "w2 = tf.Variable(weights.initialized_value(), name=\"w2\")\n",
    "# Create another variable with twice the value of 'weights'\n",
    "w_twice = tf.Variable(weights.initialized_value() * 2.0, name=\"w_twice\")"
   ]
  },
  {
   "cell_type": "code",
   "execution_count": null,
   "metadata": {
    "collapsed": true
   },
   "outputs": [],
   "source": [
    "# Create some variables.\n",
    "v1 = tf.Variable(..., name=\"v1\")\n",
    "v2 = tf.Variable(..., name=\"v2\")\n",
    "...\n",
    "# Add an op to initialize the variables.\n",
    "init_op = tf.global_variables_initializer()\n",
    "\n",
    "# Add ops to save and restore all the variables.\n",
    "saver = tf.train.Saver()\n",
    "\n",
    "# Later, launch the model, initialize the variables, do some work, save the\n",
    "# variables to disk.\n",
    "with tf.Session() as sess:\n",
    "  sess.run(init_op)\n",
    "  # Do some work with the model.\n",
    "  ..\n",
    "  # Save the variables to disk.\n",
    "  save_path = saver.save(sess, \"/tmp/model.ckpt\")\n",
    "  print(\"Model saved in file: %s\" % save_path)"
   ]
  },
  {
   "cell_type": "code",
   "execution_count": null,
   "metadata": {
    "collapsed": true
   },
   "outputs": [],
   "source": [
    "# Note that when you restore variables from a file you do not have to initialize them beforehand.\n",
    "\n",
    "# Create some variables.\n",
    "v1 = tf.Variable(..., name=\"v1\")\n",
    "v2 = tf.Variable(..., name=\"v2\")\n",
    "...\n",
    "# Add ops to save and restore all the variables.\n",
    "saver = tf.train.Saver()\n",
    "\n",
    "# Later, launch the model, use the saver to restore variables from disk, and\n",
    "# do some work with the model.\n",
    "with tf.Session() as sess:\n",
    "  # Restore variables from disk.\n",
    "  saver.restore(sess, \"/tmp/model.ckpt\")\n",
    "  print(\"Model restored.\")\n",
    "  # Do some work with the model\n",
    "  ..."
   ]
  },
  {
   "cell_type": "code",
   "execution_count": null,
   "metadata": {
    "collapsed": true
   },
   "outputs": [],
   "source": [
    "# Create some variables.\n",
    "v1 = tf.Variable(..., name=\"v1\")\n",
    "v2 = tf.Variable(..., name=\"v2\")\n",
    "...\n",
    "# Add ops to save and restore only 'v2' using the name \"my_v2\"\n",
    "saver = tf.train.Saver({\"my_v2\": v2})\n",
    "# Use the saver object normally after that.\n",
    "..."
   ]
  },
  {
   "cell_type": "code",
   "execution_count": null,
   "metadata": {
    "collapsed": true
   },
   "outputs": [],
   "source": []
  }
 ],
 "metadata": {
  "kernelspec": {
   "display_name": "Python 2",
   "language": "python",
   "name": "python2"
  },
  "language_info": {
   "codemirror_mode": {
    "name": "ipython",
    "version": 2
   },
   "file_extension": ".py",
   "mimetype": "text/x-python",
   "name": "python",
   "nbconvert_exporter": "python",
   "pygments_lexer": "ipython2",
   "version": "2.7.13"
  }
 },
 "nbformat": 4,
 "nbformat_minor": 2
}
