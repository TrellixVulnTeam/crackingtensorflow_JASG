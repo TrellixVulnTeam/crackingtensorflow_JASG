{
 "cells": [
  {
   "cell_type": "code",
   "execution_count": null,
   "metadata": {
    "collapsed": true
   },
   "outputs": [],
   "source": [
    "# Large-scale Linear Models with TensorFlow\n",
    "\n",
    "eye_color = tf.contrib.layers.sparse_column_with_keys(\n",
    "  column_name=\"eye_color\", keys=[\"blue\", \"brown\", \"green\"])\n",
    "\n",
    "education = tf.contrib.layers.sparse_column_with_hash_bucket(\\\n",
    "    \"education\", hash_bucket_size=1000)\n"
   ]
  },
  {
   "cell_type": "code",
   "execution_count": null,
   "metadata": {
    "collapsed": true
   },
   "outputs": [],
   "source": [
    "sport = tf.contrib.layers.sparse_column_with_hash_bucket(\\\n",
    "    \"sport\", hash_bucket_size=1000)\n",
    "city = tf.contrib.layers.sparse_column_with_hash_bucket(\\\n",
    "    \"city\", hash_bucket_size=1000)\n",
    "sport_x_city = tf.contrib.layers.crossed_column(\n",
    "    [sport, city], hash_bucket_size=int(1e4))"
   ]
  },
  {
   "cell_type": "code",
   "execution_count": null,
   "metadata": {
    "collapsed": true
   },
   "outputs": [],
   "source": [
    "age = tf.contrib.layers.real_valued_column(\"age\")"
   ]
  },
  {
   "cell_type": "code",
   "execution_count": null,
   "metadata": {
    "collapsed": true
   },
   "outputs": [],
   "source": [
    "age_buckets = tf.contrib.layers.bucketized_column(\n",
    "    age, boundaries=[18, 25, 30, 35, 40, 45, 50, 55, 60, 65])"
   ]
  },
  {
   "cell_type": "code",
   "execution_count": null,
   "metadata": {
    "collapsed": true
   },
   "outputs": [],
   "source": [
    "e = tf.contrib.learn.LinearClassifier(feature_columns=[\n",
    "  native_country, education, occupation, workclass, marital_status,\n",
    "  race, age_buckets, education_x_occupation, age_buckets_x_race_x_occupation],\n",
    "  model_dir=YOUR_MODEL_DIRECTORY)\n",
    "e.fit(input_fn=input_fn_train, steps=200)\n",
    "# Evaluate for one step (one pass through the test data).\n",
    "results = e.evaluate(input_fn=input_fn_test, steps=1)\n",
    "\n",
    "# Print the stats for the evaluation.\n",
    "for key in sorted(results):\n",
    "    print(\"%s: %s\" % (key, results[key]))"
   ]
  },
  {
   "cell_type": "code",
   "execution_count": null,
   "metadata": {
    "collapsed": true
   },
   "outputs": [],
   "source": [
    "e = tf.contrib.learn.DNNLinearCombinedClassifier(\n",
    "    model_dir=YOUR_MODEL_DIR,\n",
    "    linear_feature_columns=wide_columns,\n",
    "    dnn_feature_columns=deep_columns,\n",
    "    dnn_hidden_units=[100, 50])"
   ]
  }
 ],
 "metadata": {
  "kernelspec": {
   "display_name": "Python 2",
   "language": "python",
   "name": "python2"
  },
  "language_info": {
   "codemirror_mode": {
    "name": "ipython",
    "version": 2
   },
   "file_extension": ".py",
   "mimetype": "text/x-python",
   "name": "python",
   "nbconvert_exporter": "python",
   "pygments_lexer": "ipython2",
   "version": "2.7.13"
  }
 },
 "nbformat": 4,
 "nbformat_minor": 2
}
