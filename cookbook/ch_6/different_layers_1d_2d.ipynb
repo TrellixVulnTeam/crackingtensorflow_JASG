{
 "cells": [
  {
   "cell_type": "code",
   "execution_count": 7,
   "metadata": {
    "collapsed": true
   },
   "outputs": [],
   "source": [
    "import tensorflow as tf\n",
    "import matplotlib.pyplot as plt\n",
    "import csv\n",
    "import os \n",
    "import random\n",
    "import numpy as np\n",
    "from tensorflow.python.framework import ops"
   ]
  },
  {
   "cell_type": "code",
   "execution_count": 8,
   "metadata": {},
   "outputs": [],
   "source": [
    "#---------------------------------------------------|\n",
    "#-------------------1D-data-------------------------|\n",
    "#---------------------------------------------------|\n",
    "\n",
    "# Create graph session\n",
    "ops.reset_default_graph()\n",
    "sess = tf.Session()\n",
    "\n",
    "# parameters for the run\n",
    "data_size = 25\n",
    "conv_size = 5\n",
    "maxpool_size = 5\n",
    "stride_size = 1\n",
    "\n",
    "# ensure reproducibility\n",
    "seed = 3\n",
    "np.random.seed(seed)\n",
    "tf.set_random_seed(seed)\n",
    "\n",
    "#Gnerate 1D data\n",
    "data_1d = np.random.normal(size=data_size)\n",
    "\n",
    "# placeholder\n",
    "x_input_1d = tf.placeholder(dtype=tf.float32, shape=[data_size])\n",
    "\n",
    "#------Convolution-----\n",
    "def conv_layer_1d(input_1d, my_filter, stride):\n",
    "    input_2d = tf.expand_dims(input_1d, 0)\n",
    "    input_3d = tf.expand_dims(input_2d, 0)\n",
    "    input_4d = tf.expand_dims(input_3d, 3)\n",
    "    \n",
    "    convolution_output = tf.nn.conv2d(input_4d, filter=my_filter, strides=[1,1,stride, 1], padding=\"VALID\")\n",
    "    conv_output_1d = tf.squeeze(convolution_output)\n",
    "    return (conv_output_1d)\n",
    "    \n",
    "my_filter = tf.Variable(tf.random_normal(shape=[1, conv_size, 1, 1]))\n",
    "my_convolution_output = conv_layer_1d(x_input_1d, my_filter, stride=stride_size)"
   ]
  },
  {
   "cell_type": "code",
   "execution_count": 9,
   "metadata": {},
   "outputs": [],
   "source": [
    "#-----activation------\n",
    "def activation(input_1d):\n",
    "    return (tf.nn.relu(input_1d))\n",
    "\n",
    "# create activation layer\n",
    "my_activation_output = activation(my_convolution_output)"
   ]
  },
  {
   "cell_type": "code",
   "execution_count": 10,
   "metadata": {},
   "outputs": [],
   "source": [
    "#-----max pool-----\n",
    "def max_pool(input_1d, width, stride):\n",
    "    input_2d = tf.expand_dims(input_1d, 0)\n",
    "    input_3d = tf.expand_dims(input_2d, 0)\n",
    "    input_4d = tf.expand_dims(input_3d, 3)\n",
    "    pool_output = tf.nn.max_pool(input_4d, ksize=[1,1,width, 1], strides=[1, 1, stride, 1], padding='VALID')\n",
    "    pool_output_1d = tf.squeeze(pool_output)\n",
    "    return (pool_output_1d)\n",
    "\n",
    "my_maxpool_output = max_pool(my_activation_output, width=maxpool_size, stride=stride_size)"
   ]
  },
  {
   "cell_type": "code",
   "execution_count": 11,
   "metadata": {},
   "outputs": [],
   "source": [
    "#----fully connected-----\n",
    "def fully_connected(input_layer, num_outputs):\n",
    "    weight_shape = tf.squeeze(tf.stack([tf.shape(input_layer), [num_outputs]]))\n",
    "    weight = tf.random_normal(weight_shape, stddev=0.1)\n",
    "    bias = tf.random_normal(shape=[num_outputs])\n",
    "    input_layer_2d = tf.expand_dims(input_layer, 0)\n",
    "    full_output = tf.add(tf.matmul(input_layer_2d, weight), bias)\n",
    "    full_output_1d = tf.squeeze(full_output)\n",
    "    return (full_output_1d)\n",
    "\n",
    "my_full_output = fully_connected(my_maxpool_output, 5)"
   ]
  },
  {
   "cell_type": "code",
   "execution_count": 12,
   "metadata": {},
   "outputs": [
    {
     "name": "stdout",
     "output_type": "stream",
     "text": [
      ">>>>> 1D data <<<<\nInput = array of length 25\nConvolution w/ filter, lengthn = 5, stride size = 1, results in an array of length 21:\n[ 0.20388454  0.7204051   0.59722596 -0.19168641 -0.02843863  0.23616135\n  0.46905193 -0.44914222  0.37728733 -0.41038391 -0.67565417 -0.37453118\n -0.12621951  0.96754086 -0.19212683  0.93351924  0.16185835 -0.48495594\n  0.49288097  0.19455409 -0.41068366]\n\nInput = above array of length 21\nMaxpool, window length = 5, stride size = 1, results in the array of length 17\n[ 0.7204051   0.7204051   0.59722596  0.46905193  0.46905193  0.46905193\n  0.46905193  0.37728733  0.37728733  0.96754086  0.96754086  0.96754086\n  0.96754086  0.96754086  0.93351924  0.93351924  0.49288097]\n\nInput = above array of length 17\nFully connected layer on all 4 rows with 5\n[-0.62756699 -0.75552887  0.03494836 -0.7527107   1.18131292]\n"
     ]
    }
   ],
   "source": [
    "#run graph\n",
    "#initialize variable\n",
    "init = tf.global_variables_initializer()\n",
    "sess.run(init)\n",
    "\n",
    "feed_dict = {x_input_1d: data_1d}\n",
    "print('>>>>> 1D data <<<<')\n",
    "\n",
    "# convolution output\n",
    "print('Input = array of length %d' % (x_input_1d.shape.as_list()[0]))\n",
    "print('Convolution w/ filter, lengthn = %d, stride size = %d, results in an array of length %d:' % (conv_size, stride_size, my_convolution_output.shape.as_list()[0]))\n",
    "print(sess.run(my_convolution_output, feed_dict=feed_dict))\n",
    "\n",
    "# Activation output\n",
    "print('\\nInput = above array of length %d' % (my_activation_output.shape.as_list()[0]))\n",
    "print('Maxpool, window length = %d, stride size = %d, results in the array of length %d' % (maxpool_size, stride_size, my_maxpool_output.shape.as_list()[0]))\n",
    "print(sess.run(my_maxpool_output, feed_dict=feed_dict))\n",
    "\n",
    "# fully connected output\n",
    "print('\\nInput = above array of length %d' % (my_maxpool_output.shape.as_list()[0]))\n",
    "print('Fully connected layer on all 4 rows with %d' % (my_full_output.shape.as_list()[0]))\n",
    "print(sess.run(my_full_output, feed_dict=feed_dict))"
   ]
  },
  {
   "cell_type": "code",
   "execution_count": 13,
   "metadata": {},
   "outputs": [],
   "source": [
    "#---------------------------------------------------|\n",
    "#-------------------2D-data-------------------------|\n",
    "#---------------------------------------------------|\n",
    "#reset graph\n",
    "ops.reset_default_graph()\n",
    "sess = tf.Session()"
   ]
  },
  {
   "cell_type": "code",
   "execution_count": 14,
   "metadata": {},
   "outputs": [],
   "source": [
    "# parameters for the run\n",
    "row_size = 10 \n",
    "col_size = 10\n",
    "conv_size = 2\n",
    "conv_stride_size = 2\n",
    "maxpool_size = 2\n",
    "maxpool_stride_size = 1\n",
    "\n",
    "\n",
    "# ensure reproducibility\n",
    "seed = 13\n",
    "np.random.seed(seed)\n",
    "tf.set_random_seed(seed)\n",
    "\n",
    "# generate 2D data\n",
    "data_size = [row_size, col_size]\n",
    "data_2d = np.random.normal(size=data_size)\n",
    "\n",
    "#--- placeholder---\n",
    "x_input_2d = tf.placeholder(dtype=tf.float32, shape=data_size)"
   ]
  },
  {
   "cell_type": "code",
   "execution_count": 19,
   "metadata": {},
   "outputs": [],
   "source": [
    "#----convolution----\n",
    "def conv_layer_2d(input_2d, my_filter, stride_size):\n",
    "    input_3d = tf.expand_dims(input_2d, 0)\n",
    "    input_4d = tf.expand_dims(input_3d, 3)\n",
    "    convolution_output = tf.nn.conv2d(input_4d, filter=my_filter, strides=[1, stride_size, stride_size, 1], padding='VALID')\n",
    "    conv_output_2d = tf.squeeze(convolution_output)\n",
    "    return (conv_output_2d)\n",
    "\n",
    "my_filter = tf.Variable(tf.random_normal(shape=[conv_size, conv_size, 1, 1]))\n",
    "my_convolution_output = conv_layer_2d(x_input_2d, my_filter, stride_size=conv_stride_size)"
   ]
  },
  {
   "cell_type": "code",
   "execution_count": 21,
   "metadata": {},
   "outputs": [],
   "source": [
    "#----activation----\n",
    "def activation(input_1d):\n",
    "    return(tf.nn.relu(input_1d))\n",
    "\n",
    "my_activation_output = activation(my_convolution_output)"
   ]
  },
  {
   "cell_type": "code",
   "execution_count": 30,
   "metadata": {},
   "outputs": [],
   "source": [
    "#-----max pool---\n",
    "def max_pool(input_2d, width, height, stride):\n",
    "    input_3d = tf.expand_dims(input_2d, 0)\n",
    "    input_4d = tf.expand_dims(input_3d, 3)\n",
    "    pool_output = tf.nn.max_pool(input_4d, ksize=[1, height, width, 1], strides=[1, stride, stride, 1], padding='VALID')\n",
    "    pool_output_2d = tf.squeeze(pool_output)\n",
    "    return (pool_output_2d)\n",
    "\n",
    "my_maxpool_output = max_pool(my_activation_output, width=maxpool_size, height=maxpool_size, stride=maxpool_stride_size)"
   ]
  },
  {
   "cell_type": "code",
   "execution_count": 38,
   "metadata": {},
   "outputs": [],
   "source": [
    "#-----fully connected----\n",
    "def fully_connected(input_layer, num_outputs):\n",
    "    flat_input = tf.reshape(input_layer, [-1])\n",
    "    weight_shape = tf.squeeze(tf.stack([tf.shape(flat_input), [num_outputs]]))\n",
    "    weight = tf.random_normal(weight_shape, stddev=0.1)\n",
    "    bias = tf.random_normal(shape=[num_outputs])\n",
    "    input_2d = tf.expand_dims(flat_input, 0)\n",
    "    fully_output = tf.add(tf.matmul(input_2d, weight), bias)\n",
    "    full_output_2d = tf.squeeze(fully_output)\n",
    "    return (full_output_2d)\n",
    "\n",
    "my_full_output = fully_connected(my_maxpool_output, 5)"
   ]
  },
  {
   "cell_type": "code",
   "execution_count": 39,
   "metadata": {},
   "outputs": [
    {
     "name": "stdout",
     "output_type": "stream",
     "text": [
      ">>>>> 2D data: <<<<<\nInput = [10, 10] array\n[2, 2] convolution, stride size = [2, 2], results in the [5, 5] array\n[[ 1.51234519  1.51234519  1.5481838   2.4784441 ]\n [ 1.51234519  1.94314456  1.94314456  2.4784441 ]\n [ 0.          1.94314456  1.94314456  0.54362565]\n [ 2.50780892  0.44513056  0.54362565  0.81862581]]\n\nInput = the above [4, 4] array\nReLU element wise returns [5, 5] arrays\n[[ 0.          0.          0.65901303  1.5481838   1.62168312]\n [ 0.          1.51234519  0.          0.          2.4784441 ]\n [ 0.          0.          1.94314456  0.          0.        ]\n [ 0.          0.          0.44513056  0.54362565  0.        ]\n [ 2.50780892  0.          0.          0.          0.81862581]]\n\nInput = the above [5, 5] array\nMaxPool, stride_size =[1, 1], results in [4, 4] output:\n[[ 1.51234519  1.51234519  1.5481838   2.4784441 ]\n [ 1.51234519  1.94314456  1.94314456  2.4784441 ]\n [ 0.          1.94314456  1.94314456  0.54362565]\n [ 2.50780892  0.44513056  0.54362565  0.81862581]]\n\nInput = the above [4, 4] array\nFully connected layer on all 4 rows results in 5 output:\n[ 1.06032324 -0.69213206 -0.94082755  0.01113656 -0.73912561]\n"
     ]
    }
   ],
   "source": [
    "#run graph\n",
    "# initialize variables\n",
    "init = tf.global_variables_initializer()\n",
    "sess.run(init)\n",
    "feed_dict = {x_input_2d: data_2d}\n",
    "\n",
    "print('>>>>> 2D data: <<<<<')\n",
    "\n",
    "# convolution output\n",
    "print('Input = %s array' % (x_input_2d.shape.as_list()))\n",
    "print('%s convolution, stride size = [%d, %d], results in the %s array' % (my_filter.shape.as_list()[:2], conv_stride_size,conv_stride_size, my_convolution_output.shape.as_list()))\n",
    "print(sess.run(my_maxpool_output, feed_dict=feed_dict))\n",
    "\n",
    "\n",
    "# activation output\n",
    "print('\\nInput = the above %s array' % (my_maxpool_output.shape.as_list()))\n",
    "print('ReLU element wise returns %s arrays' % (my_activation_output.shape.as_list()))\n",
    "print(sess.run(my_activation_output, feed_dict=feed_dict))\n",
    "\n",
    "# max pool output\n",
    "print('\\nInput = the above %s array' % (my_activation_output.shape.as_list()))\n",
    "print('MaxPool, stride_size =[%d, %d], results in %s output:' % (maxpool_stride_size, maxpool_stride_size, my_maxpool_output.shape.as_list()))\n",
    "print(sess.run(my_maxpool_output, feed_dict=feed_dict))\n",
    "\n",
    "# fully connected output\n",
    "print('\\nInput = the above %s array' % (my_maxpool_output.shape.as_list()))\n",
    "print('Fully connected layer on all %d rows results in %s output:' % (my_maxpool_output.shape.as_list()[0], my_full_output.shape.as_list()[0]))\n",
    "print(sess.run(my_full_output, feed_dict=feed_dict))"
   ]
  },
  {
   "cell_type": "code",
   "execution_count": null,
   "metadata": {},
   "outputs": [],
   "source": [
    ""
   ]
  }
 ],
 "metadata": {
  "kernelspec": {
   "display_name": "Python 2",
   "language": "python",
   "name": "python2"
  },
  "language_info": {
   "codemirror_mode": {
    "name": "ipython",
    "version": 2.0
   },
   "file_extension": ".py",
   "mimetype": "text/x-python",
   "name": "python",
   "nbconvert_exporter": "python",
   "pygments_lexer": "ipython2",
   "version": "2.7.6"
  }
 },
 "nbformat": 4,
 "nbformat_minor": 0
}