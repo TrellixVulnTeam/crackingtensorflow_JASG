{
 "cells": [
  {
   "cell_type": "code",
   "execution_count": null,
   "metadata": {
    "collapsed": true
   },
   "outputs": [],
   "source": [
    "# Frequently Asked Questions\n",
    "\n",
    "# Using `Session.run()`.\n",
    "sess = tf.Session()\n",
    "c = tf.constant(5.0)\n",
    "print(sess.run(c))\n",
    "\n",
    "# Using `Tensor.eval()`.\n",
    "c = tf.constant(5.0)\n",
    "with tf.Session():\n",
    "  print(c.eval())\n",
    "\n"
   ]
  }
 ],
 "metadata": {
  "kernelspec": {
   "display_name": "Python 2",
   "language": "python",
   "name": "python2"
  },
  "language_info": {
   "codemirror_mode": {
    "name": "ipython",
    "version": 2
   },
   "file_extension": ".py",
   "mimetype": "text/x-python",
   "name": "python",
   "nbconvert_exporter": "python",
   "pygments_lexer": "ipython2",
   "version": "2.7.13"
  }
 },
 "nbformat": 4,
 "nbformat_minor": 2
}
