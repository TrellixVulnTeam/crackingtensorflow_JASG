{
 "cells": [
  {
   "cell_type": "code",
   "execution_count": 17,
   "metadata": {},
   "outputs": [],
   "source": [
    "class KNN:\n",
    "    def __init__(self):\n",
    "        self.k = 10\n",
    "    \n",
    "    def set(self, k):\n",
    "        self.k = k\n",
    "    \n",
    "    def euc_dist(self, a, b, dim):\n",
    "        return sum([(a[i] - b[i]) ** 2 for i in range(dim)])\n",
    "        \n",
    "    # one test -> all trains\n",
    "    def get_k_neighbors(self, trains, test):\n",
    "        dims = len(test) - 1\n",
    "        dists = []\n",
    "        for i in range(len(trains)):\n",
    "            dist = self.euc_dist(trains[i], test, dims)\n",
    "            dists.append((trains[i], dist))\n",
    "        dists.sort(key = lambda x: x[1])\n",
    "        \n",
    "        # get topk closest neighbors\n",
    "        k_neis = []\n",
    "        for i in range(self.k):\n",
    "            k_neis.append(dists[i][0])\n",
    "        return k_neis\n",
    "    \n",
    "    def get_top1_vote(self, k_neis):\n",
    "        import collections\n",
    "        class_vote = collections.defaultdict(int)\n",
    "        for i in range(len(k_neis)):\n",
    "            class_vote[k_neis[i][-1]] += 1\n",
    "        sorted_vote = sorted(class_vote.items(), key = lambda x: -x[1])\n",
    "        return sorted_vote[0][0]\n",
    "    \n",
    "    def get_accuracy(self, tests, pres):\n",
    "        correct = sum([1 for a, b in zip(tests, pres) if a == b])\n",
    "        return correct * 1.0 / len(tests)\n"
   ]
  },
  {
   "cell_type": "code",
   "execution_count": 19,
   "metadata": {},
   "outputs": [
    {
     "name": "stdout",
     "output_type": "stream",
     "text": [
      "predicted=0, actual = 0\n",
      "predicted=0, actual = 0\n",
      "predicted=0, actual = 1\n",
      "predicted=0, actual = 1\n",
      "Accuracy: 0.0\n"
     ]
    }
   ],
   "source": [
    "trains = [(1, 1, 0), (2, 2, 0), (1, 2, 1), (2, 1, 1),\n",
    "          (-3, -3, 2), (-4, -4, 2), (-3, -4, 3), (-4, -3, 3)\n",
    "          ]\n",
    "tests = [(1, 1, 0), (2, 2, 0), (1, 2, 1), (2, 1, 1)]\n",
    "\n",
    "kn = KNN()\n",
    "kn.set(2)\n",
    "pres = []\n",
    "for i in range(len(tests)):\n",
    "    k_neis = kn.get_k_neighbors(trains, tests[i])\n",
    "    res = kn.get_top1_vote(k_neis)\n",
    "    pres.append(res)\n",
    "    print('predicted=' + str(res) + ', actual = ' + str(tests[i][-1]))\n",
    "\n",
    "accuracy = kn.get_accuracy(tests, pres)\n",
    "print('Accuracy: ' + str(accuracy))\n"
   ]
  },
  {
   "cell_type": "code",
   "execution_count": null,
   "metadata": {},
   "outputs": [],
   "source": []
  },
  {
   "cell_type": "code",
   "execution_count": null,
   "metadata": {},
   "outputs": [],
   "source": []
  }
 ],
 "metadata": {
  "kernelspec": {
   "display_name": "Python 2",
   "language": "python",
   "name": "python2"
  },
  "language_info": {
   "codemirror_mode": {
    "name": "ipython",
    "version": 2
   },
   "file_extension": ".py",
   "mimetype": "text/x-python",
   "name": "python",
   "nbconvert_exporter": "python",
   "pygments_lexer": "ipython2",
   "version": "2.7.16"
  }
 },
 "nbformat": 4,
 "nbformat_minor": 2
}
