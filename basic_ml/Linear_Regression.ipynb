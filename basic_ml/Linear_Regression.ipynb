{
 "cells": [
  {
   "cell_type": "code",
   "execution_count": 5,
   "metadata": {},
   "outputs": [
    {
     "data": {
      "image/png": "[encoded data removed]",
      "text/plain": [
       "<Figure size 432x288 with 1 Axes>"
      ]
     },
     "metadata": {
      "needs_background": "light"
     },
     "output_type": "display_data"
    }
   ],
   "source": [
    "import numpy as np\n",
    "import tensorflow as tf\n",
    "import matplotlib.pyplot as plt\n",
    "\n",
    "# 随机生成1000个点，围绕在y = 0.1 x + 0.3 的直线周围\n",
    "num_points = 1000\n",
    "vectors_set = []\n",
    "for i in range(num_points):\n",
    "    x1 = np.random.normal(0.0, 0.55)\n",
    "    y1 = x1 * 0.1 + 0.3 + np.random.normal(0.0, 0.03)\n",
    "    vectors_set.append([x1, y1])\n",
    "\n",
    "    \n",
    "# 生成一些样本\n",
    "x_data = [v[0] for v in vectors_set]\n",
    "y_data = [v[1] for v in vectors_set]\n",
    "\n",
    "plt.scatter(x_data, y_data, c = 'r')\n",
    "plt.show()"
   ]
  },
  {
   "cell_type": "code",
   "execution_count": 11,
   "metadata": {},
   "outputs": [
    {
     "name": "stdout",
     "output_type": "stream",
     "text": [
      "('W =', array([-0.64143467], dtype=float32), 'b =', array([0.], dtype=float32), 'loss =', 0.24914397)\n",
      "('W =', array([-0.4225526], dtype=float32), 'b =', array([0.28656858], dtype=float32), 'loss =', 0.083623685)\n",
      "('W =', array([-0.2649762], dtype=float32), 'b =', array([0.29005358], dtype=float32), 'loss =', 0.041405633)\n",
      "('W =', array([-0.15476394], dtype=float32), 'b =', array([0.29256248], dtype=float32), 'loss =', 0.020752372)\n",
      "('W =', array([-0.07767799], dtype=float32), 'b =', array([0.29431725], dtype=float32), 'loss =', 0.010648707)\n",
      "('W =', array([-0.02376165], dtype=float32), 'b =', array([0.2955446], dtype=float32), 'loss =', 0.005705947)\n",
      "('W =', array([0.01394914], dtype=float32), 'b =', array([0.29640305], dtype=float32), 'loss =', 0.0032879272)\n",
      "('W =', array([0.04032526], dtype=float32), 'b =', array([0.29700345], dtype=float32), 'loss =', 0.002105021)\n",
      "('W =', array([0.05877355], dtype=float32), 'b =', array([0.29742342], dtype=float32), 'loss =', 0.0015263373)\n",
      "('W =', array([0.07167687], dtype=float32), 'b =', array([0.29771715], dtype=float32), 'loss =', 0.001243243)\n",
      "('W =', array([0.08070185], dtype=float32), 'b =', array([0.29792258], dtype=float32), 'loss =', 0.001104752)\n",
      "('W =', array([0.08701421], dtype=float32), 'b =', array([0.2980663], dtype=float32), 'loss =', 0.0010370016)\n",
      "('W =', array([0.09142927], dtype=float32), 'b =', array([0.29816678], dtype=float32), 'loss =', 0.0010038578)\n",
      "('W =', array([0.09451731], dtype=float32), 'b =', array([0.2982371], dtype=float32), 'loss =', 0.0009876436)\n",
      "('W =', array([0.09667718], dtype=float32), 'b =', array([0.29828626], dtype=float32), 'loss =', 0.0009797115)\n",
      "('W =', array([0.09818786], dtype=float32), 'b =', array([0.29832065], dtype=float32), 'loss =', 0.0009758312)\n",
      "('W =', array([0.09924448], dtype=float32), 'b =', array([0.2983447], dtype=float32), 'loss =', 0.0009739328)\n",
      "('W =', array([0.09998351], dtype=float32), 'b =', array([0.2983615], dtype=float32), 'loss =', 0.00097300427)\n",
      "('W =', array([0.1005004], dtype=float32), 'b =', array([0.29837328], dtype=float32), 'loss =', 0.00097254995)\n",
      "('W =', array([0.10086194], dtype=float32), 'b =', array([0.2983815], dtype=float32), 'loss =', 0.00097232766)\n",
      "('W =', array([0.10111482], dtype=float32), 'b =', array([0.29838726], dtype=float32), 'loss =', 0.0009722191)\n"
     ]
    }
   ],
   "source": [
    "# 生成1维度的W矩阵，取值是[-1, 1]之间的随机数\n",
    "W = tf.Variable(tf.random.uniform([1], -1.0, 1.0), name = 'W')\n",
    "# 生成1维的b矩阵， 初始值是0\n",
    "b = tf.Variable(tf.zeros([1]), name = 'b')\n",
    "# 经过计算得出预估值y\n",
    "y = W * x_data + b\n",
    "\n",
    "\n",
    "# 以预估值y和实际值y_data之间的均方差误差作为损失\n",
    "loss = tf.reduce_mean(tf.square(y - y_data), name='loss')\n",
    "# 采用低度下降法来优化参数\n",
    "optimizer = tf.train.GradientDescentOptimizer(0.5)\n",
    "# 训练的过程就是最小化这个误差值\n",
    "train = optimizer.minimize(loss, name = 'train')\n",
    "\n",
    "sess = tf.Session()\n",
    "\n",
    "init = tf.global_variables_initializer()\n",
    "sess.run(init)\n",
    "\n",
    "# 初始化的W和b是多少\n",
    "print('W =', sess.run(W), 'b =', sess.run(b), 'loss =', sess.run(loss))\n",
    "\n",
    "for step in range(20):\n",
    "    sess.run(train)\n",
    "    # 输出训练好的W和b\n",
    "    print('W =', sess.run(W), 'b =', sess.run(b), 'loss =', sess.run(loss))\n"
   ]
  },
  {
   "cell_type": "code",
   "execution_count": null,
   "metadata": {},
   "outputs": [],
   "source": []
  },
  {
   "cell_type": "code",
   "execution_count": null,
   "metadata": {},
   "outputs": [],
   "source": []
  }
 ],
 "metadata": {
  "kernelspec": {
   "display_name": "Python 2",
   "language": "python",
   "name": "python2"
  },
  "language_info": {
   "codemirror_mode": {
    "name": "ipython",
    "version": 2
   },
   "file_extension": ".py",
   "mimetype": "text/x-python",
   "name": "python",
   "nbconvert_exporter": "python",
   "pygments_lexer": "ipython2",
   "version": "2.7.16"
  }
 },
 "nbformat": 4,
 "nbformat_minor": 2
}
