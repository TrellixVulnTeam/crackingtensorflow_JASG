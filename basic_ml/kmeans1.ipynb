{
 "cells": [
  {
   "cell_type": "code",
   "execution_count": null,
   "metadata": {},
   "outputs": [],
   "source": [
    "import random\n",
    "import collections\n",
    "class KMeans():\n",
    "    def __init__(self):\n",
    "        self.k = 3\n",
    "        \n",
    "    def set(self, k, max_iter):\n",
    "        self.k = k\n",
    "        self.max_iter = max_iter\n",
    "\n",
    "    def euc_dist(self, a, b):\n",
    "        return sum([(ai - bi) ** 2 for ai, bi in zip(a, b)])\n",
    "\n",
    "    def fit(self, points):\n",
    "        n = len(points)\n",
    "        dim = len(points[0])\n",
    "        centers = [points[i] for i in random.sample(range(0, n), self.k)]\n",
    "        custer = collections.defaultdict(list)\n",
    "\n",
    "\n",
    "        for it in range(self.max_iter):\n",
    "            # assign point to center\n",
    "            for i in range(n):\n",
    "                min_idx = 0\n",
    "                min_dist = self.euc_dist(points[i], centers[0])\n",
    "                for j in range(1, self.k):\n",
    "                    cur_dist = self.euc_dist(points[i], centers[j])\n",
    "                    if cur_dist < min_dist:\n",
    "                        min_idx = j\n",
    "                        min_dist = cur_dist\n",
    "                custer[min_idx].append(points[i])\n",
    "\n",
    "            # update center\n",
    "            for i in range(self.k):\n",
    "                sumv = [0] * dim\n",
    "                cn = len(custer[i])\n",
    "                for p in custer[i]:\n",
    "                    for j in range(dim):\n",
    "                        sumv[j] += p[j]\n",
    "                centers[i] = list(map(lambda x: x / cn, sumv))\n",
    "        return centers\n"
   ]
  },
  {
   "cell_type": "code",
   "execution_count": 54,
   "metadata": {},
   "outputs": [
    {
     "name": "stdout",
     "output_type": "stream",
     "text": [
      "[[1, 1], [-3, -4], [-4, -4]]\n"
     ]
    }
   ],
   "source": [
    "points = [(1, 1), (2, 2), (1, 2), (2, 1),\n",
    "          (-3, -3), (-4, -4), (-3, -4), (-4, -3)\n",
    "          ]\n",
    "km = KMeans()\n",
    "km.set(2, 10)\n",
    "centers = km.fit(points)\n",
    "print centers"
   ]
  },
  {
   "cell_type": "code",
   "execution_count": null,
   "metadata": {},
   "outputs": [],
   "source": []
  }
 ],
 "metadata": {
  "kernelspec": {
   "display_name": "Python 2",
   "language": "python",
   "name": "python2"
  },
  "language_info": {
   "codemirror_mode": {
    "name": "ipython",
    "version": 2
   },
   "file_extension": ".py",
   "mimetype": "text/x-python",
   "name": "python",
   "nbconvert_exporter": "python",
   "pygments_lexer": "ipython2",
   "version": "2.7.16"
  }
 },
 "nbformat": 4,
 "nbformat_minor": 2
}
