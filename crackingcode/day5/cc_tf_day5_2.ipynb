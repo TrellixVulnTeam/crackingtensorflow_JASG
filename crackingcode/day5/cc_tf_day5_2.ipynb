{
 "cells": [
  {
   "cell_type": "code",
   "execution_count": 6,
   "metadata": {},
   "outputs": [
    {
     "data": {
      "text/plain": [
       "SparseTensorValue(indices=array([[0, 1],\n",
       "       [2, 4]]), values=array([ 6. ,  0.5], dtype=float32), dense_shape=array([3, 5]))"
      ]
     },
     "execution_count": 6,
     "metadata": {},
     "output_type": "execute_result"
    }
   ],
   "source": [
    "# predict mediam house values\n",
    "\n",
    "import tensorflow as tf\n",
    "\n",
    "feature_column_data = [1,2.4,0,9.9,3,120]\n",
    "feature_tensor = tf.constant(feature_column_data)\n",
    "\n",
    "sparse_tensor = tf.SparseTensor(indices=[[0,1], [2,4]],\n",
    "                              values=[6, 0.5],\n",
    "                              dense_shape=[3,5])\n",
    "\n",
    "sess = tf.Session()\n",
    "sess.run(sparse_tensor)\n"
   ]
  },
  {
   "cell_type": "code",
   "execution_count": null,
   "metadata": {
    "collapsed": true
   },
   "outputs": [],
   "source": [
    "classifier.fit(input_fn=my_input_fn, steps = 2000)\n",
    "\n",
    "def my_input_function_training_set():\n",
    "    return my_input_function(training_set)\n",
    "\n",
    "classifer.fit(input_fn=my_input_fn_training_set, steps=2000)\n",
    "\n",
    "classifer.fit(input_fn=functools.partial(my_input_function,\n",
    "                                        data_set=training_set), setps=2000)\n",
    "\n",
    "classifer.fit(input_fn=lambda: my_input_fn(training_set))\n",
    "\n",
    "classifer.fit(input_fn=lambda: my_input_fn(test_set), steps=2000)\n"
   ]
  },
  {
   "cell_type": "code",
   "execution_count": 9,
   "metadata": {},
   "outputs": [],
   "source": [
    "from __future__ import absolute_import\n",
    "from __future__ import division\n",
    "from __future__ import print_function\n",
    "\n",
    "import itertools\n",
    "\n",
    "import pandas as pd\n",
    "import tensorflow as tf\n",
    "\n",
    "tf.logging.set_verbosity(tf.logging.INFO)"
   ]
  },
  {
   "cell_type": "code",
   "execution_count": 11,
   "metadata": {},
   "outputs": [],
   "source": [
    "COLUMNS = [\"crim\", \"zn\", \"indus\", \"nox\", \"rm\", \"age\",\n",
    "           \"dis\", \"tax\", \"ptratio\", \"medv\"]\n",
    "FEATURES = [\"crim\", \"zn\", \"indus\", \"nox\", \"rm\",\n",
    "            \"age\", \"dis\", \"tax\", \"ptratio\"]\n",
    "\n",
    "LABEL = \"medv\"\n",
    "\n",
    "training_set = pd.read_csv(\"/Users/lipingzhang/Desktop/program/jd/crackingtensorflow/crackingtensorflow/crackingcode/day5/boston_train.csv\", skipinitialspace=True,\n",
    "                          skiprows=1, names=COLUMNS)\n",
    "\n",
    "test_set = pd.read_csv(\"/Users/lipingzhang/Desktop/program/jd/crackingtensorflow/crackingtensorflow/crackingcode/day5/boston_test.csv\", skipinitialspace=True,\n",
    "                      skiprows=1, names=COLUMNS)\n",
    "\n",
    "prediction_set = pd.read_csv(\"/Users/lipingzhang/Desktop/program/jd/crackingtensorflow/crackingtensorflow/crackingcode/day5/boston_predict.csv\", skipinitialspace=True,\n",
    "                            skiprows=1, names=COLUMNS)\n",
    "\n",
    "\n"
   ]
  },
  {
   "cell_type": "code",
   "execution_count": 12,
   "metadata": {
    "collapsed": true
   },
   "outputs": [],
   "source": [
    "features_cols = [tf.contrib.layers.real_valued_column(k)\n",
    "                for k in FEATURES]\n"
   ]
  },
  {
   "cell_type": "code",
   "execution_count": 17,
   "metadata": {},
   "outputs": [
    {
     "name": "stdout",
     "output_type": "stream",
     "text": [
      "INFO:tensorflow:Using default config.\n",
      "INFO:tensorflow:Using config: {'_save_checkpoints_secs': 600, '_num_ps_replicas': 0, '_keep_checkpoint_max': 5, '_tf_random_seed': None, '_task_type': None, '_environment': 'local', '_is_chief': True, '_cluster_spec': <tensorflow.python.training.server_lib.ClusterSpec object at 0x11e117750>, '_tf_config': gpu_options {\n",
      "  per_process_gpu_memory_fraction: 1\n",
      "}\n",
      ", '_task_id': 0, '_save_summary_steps': 100, '_save_checkpoints_steps': None, '_evaluation_master': '', '_keep_checkpoint_every_n_hours': 10000, '_master': ''}\n"
     ]
    }
   ],
   "source": [
    "regressor = tf.contrib.learn.DNNRegressor(feature_columns=features_cols,\n",
    "                          hidden_units=[10, 10],\n",
    "                          model_dir=\"/tmp/boston_model\")"
   ]
  },
  {
   "cell_type": "code",
   "execution_count": 18,
   "metadata": {
    "collapsed": true
   },
   "outputs": [],
   "source": [
    "def input_fn(data_set):\n",
    "    feature_cols = {k: tf.constant(data_set[k].values)\n",
    "                   for k in FEATURES}\n",
    "    labels = tf.constant(data_set[LABEL].values)\n",
    "    return feature_cols, labels"
   ]
  },
  {
   "cell_type": "code",
   "execution_count": 20,
   "metadata": {},
   "outputs": [
    {
     "name": "stdout",
     "output_type": "stream",
     "text": [
      "WARNING:tensorflow:Rank of input Tensor (1) should be the same as output_rank (2) for column. Will attempt to expand dims. It is highly recommended that you resize your input, as this behavior may change.\n",
      "WARNING:tensorflow:Rank of input Tensor (1) should be the same as output_rank (2) for column. Will attempt to expand dims. It is highly recommended that you resize your input, as this behavior may change.\n",
      "WARNING:tensorflow:Rank of input Tensor (1) should be the same as output_rank (2) for column. Will attempt to expand dims. It is highly recommended that you resize your input, as this behavior may change.\n",
      "WARNING:tensorflow:Rank of input Tensor (1) should be the same as output_rank (2) for column. Will attempt to expand dims. It is highly recommended that you resize your input, as this behavior may change.\n",
      "WARNING:tensorflow:Rank of input Tensor (1) should be the same as output_rank (2) for column. Will attempt to expand dims. It is highly recommended that you resize your input, as this behavior may change.\n",
      "WARNING:tensorflow:Rank of input Tensor (1) should be the same as output_rank (2) for column. Will attempt to expand dims. It is highly recommended that you resize your input, as this behavior may change.\n",
      "WARNING:tensorflow:Rank of input Tensor (1) should be the same as output_rank (2) for column. Will attempt to expand dims. It is highly recommended that you resize your input, as this behavior may change.\n",
      "WARNING:tensorflow:Rank of input Tensor (1) should be the same as output_rank (2) for column. Will attempt to expand dims. It is highly recommended that you resize your input, as this behavior may change.\n",
      "WARNING:tensorflow:Rank of input Tensor (1) should be the same as output_rank (2) for column. Will attempt to expand dims. It is highly recommended that you resize your input, as this behavior may change.\n",
      "WARNING:tensorflow:From /Users/lipingzhang/anaconda/lib/python2.7/site-packages/tensorflow/contrib/learn/python/learn/estimators/head.py:1362: scalar_summary (from tensorflow.python.ops.logging_ops) is deprecated and will be removed after 2016-11-30.\n",
      "Instructions for updating:\n",
      "Please switch to tf.summary.scalar. Note that tf.summary.scalar uses the node name instead of the tag. This means that TensorFlow will automatically de-duplicate summary names based on the scope they are created in. Also, passing a tensor or list of tags to a scalar summary op is no longer supported.\n",
      "INFO:tensorflow:Create CheckpointSaverHook.\n",
      "INFO:tensorflow:Saving checkpoints for 1 into /tmp/boston_model/model.ckpt.\n",
      "INFO:tensorflow:loss = 3835.97, step = 1\n",
      "INFO:tensorflow:global_step/sec: 1305.12\n",
      "INFO:tensorflow:loss = 98.2116, step = 101\n",
      "INFO:tensorflow:global_step/sec: 1349.28\n",
      "INFO:tensorflow:loss = 81.5826, step = 201\n",
      "INFO:tensorflow:global_step/sec: 1328.55\n",
      "INFO:tensorflow:loss = 76.5882, step = 301\n",
      "INFO:tensorflow:global_step/sec: 1321.11\n",
      "INFO:tensorflow:loss = 73.2967, step = 401\n",
      "INFO:tensorflow:global_step/sec: 1333.96\n",
      "INFO:tensorflow:loss = 70.6866, step = 501\n",
      "INFO:tensorflow:global_step/sec: 1334.56\n",
      "INFO:tensorflow:loss = 67.5376, step = 601\n",
      "INFO:tensorflow:global_step/sec: 1293.86\n",
      "INFO:tensorflow:loss = 65.7355, step = 701\n",
      "INFO:tensorflow:global_step/sec: 1349.78\n",
      "INFO:tensorflow:loss = 63.4801, step = 801\n",
      "INFO:tensorflow:global_step/sec: 1366.14\n",
      "INFO:tensorflow:loss = 61.1619, step = 901\n",
      "INFO:tensorflow:global_step/sec: 1419.29\n",
      "INFO:tensorflow:loss = 58.8873, step = 1001\n",
      "INFO:tensorflow:global_step/sec: 1348.27\n",
      "INFO:tensorflow:loss = 56.4514, step = 1101\n",
      "INFO:tensorflow:global_step/sec: 1298.08\n",
      "INFO:tensorflow:loss = 53.4835, step = 1201\n",
      "INFO:tensorflow:global_step/sec: 1321.81\n",
      "INFO:tensorflow:loss = 51.4035, step = 1301\n",
      "INFO:tensorflow:global_step/sec: 1313.73\n",
      "INFO:tensorflow:loss = 49.3561, step = 1401\n",
      "INFO:tensorflow:global_step/sec: 1356.65\n",
      "INFO:tensorflow:loss = 47.3795, step = 1501\n",
      "INFO:tensorflow:global_step/sec: 1318.72\n",
      "INFO:tensorflow:loss = 45.1028, step = 1601\n",
      "INFO:tensorflow:global_step/sec: 1327.27\n",
      "INFO:tensorflow:loss = 44.1918, step = 1701\n",
      "INFO:tensorflow:global_step/sec: 1373.43\n",
      "INFO:tensorflow:loss = 103.955, step = 1801\n",
      "INFO:tensorflow:global_step/sec: 1280.67\n",
      "INFO:tensorflow:loss = 40.3892, step = 1901\n",
      "INFO:tensorflow:global_step/sec: 1372.33\n",
      "INFO:tensorflow:loss = 39.9576, step = 2001\n",
      "INFO:tensorflow:global_step/sec: 1453.23\n",
      "INFO:tensorflow:loss = 37.9068, step = 2101\n",
      "INFO:tensorflow:global_step/sec: 1337.27\n",
      "INFO:tensorflow:loss = 37.7232, step = 2201\n",
      "INFO:tensorflow:global_step/sec: 1238.94\n",
      "INFO:tensorflow:loss = 37.0419, step = 2301\n",
      "INFO:tensorflow:global_step/sec: 1320.9\n",
      "INFO:tensorflow:loss = 35.8491, step = 2401\n",
      "INFO:tensorflow:global_step/sec: 1317.75\n",
      "INFO:tensorflow:loss = 34.5074, step = 2501\n",
      "INFO:tensorflow:global_step/sec: 1361.79\n",
      "INFO:tensorflow:loss = 33.897, step = 2601\n",
      "INFO:tensorflow:global_step/sec: 1356.12\n",
      "INFO:tensorflow:loss = 34.1091, step = 2701\n",
      "INFO:tensorflow:global_step/sec: 1340.2\n",
      "INFO:tensorflow:loss = 33.4445, step = 2801\n",
      "INFO:tensorflow:global_step/sec: 1362.3\n",
      "INFO:tensorflow:loss = 33.469, step = 2901\n",
      "INFO:tensorflow:global_step/sec: 1344.32\n",
      "INFO:tensorflow:loss = 32.9832, step = 3001\n",
      "INFO:tensorflow:global_step/sec: 1354.9\n",
      "INFO:tensorflow:loss = 31.8194, step = 3101\n",
      "INFO:tensorflow:global_step/sec: 1307.24\n",
      "INFO:tensorflow:loss = 31.394, step = 3201\n",
      "INFO:tensorflow:global_step/sec: 1359.6\n",
      "INFO:tensorflow:loss = 32.4078, step = 3301\n",
      "INFO:tensorflow:global_step/sec: 1371.86\n",
      "INFO:tensorflow:loss = 32.1035, step = 3401\n",
      "INFO:tensorflow:global_step/sec: 1352.26\n",
      "INFO:tensorflow:loss = 32.0015, step = 3501\n",
      "INFO:tensorflow:global_step/sec: 1353.97\n",
      "INFO:tensorflow:loss = 31.5788, step = 3601\n",
      "INFO:tensorflow:global_step/sec: 1296.75\n",
      "INFO:tensorflow:loss = 31.3084, step = 3701\n",
      "INFO:tensorflow:global_step/sec: 1261.11\n",
      "INFO:tensorflow:loss = 31.2654, step = 3801\n",
      "INFO:tensorflow:global_step/sec: 1400.4\n",
      "INFO:tensorflow:loss = 30.873, step = 3901\n",
      "INFO:tensorflow:global_step/sec: 1322.26\n",
      "INFO:tensorflow:loss = 31.058, step = 4001\n",
      "INFO:tensorflow:global_step/sec: 1334.17\n",
      "INFO:tensorflow:loss = 30.7417, step = 4101\n",
      "INFO:tensorflow:global_step/sec: 1278.31\n",
      "INFO:tensorflow:loss = 30.624, step = 4201\n",
      "INFO:tensorflow:global_step/sec: 1296.39\n",
      "INFO:tensorflow:loss = 30.6231, step = 4301\n",
      "INFO:tensorflow:global_step/sec: 1437.69\n",
      "INFO:tensorflow:loss = 30.5645, step = 4401\n",
      "INFO:tensorflow:global_step/sec: 1298.92\n",
      "INFO:tensorflow:loss = 30.8233, step = 4501\n",
      "INFO:tensorflow:global_step/sec: 1305.33\n",
      "INFO:tensorflow:loss = 30.215, step = 4601\n",
      "INFO:tensorflow:global_step/sec: 1328.71\n",
      "INFO:tensorflow:loss = 30.3208, step = 4701\n",
      "INFO:tensorflow:global_step/sec: 1320.95\n",
      "INFO:tensorflow:loss = 29.7568, step = 4801\n",
      "INFO:tensorflow:global_step/sec: 1257.94\n",
      "INFO:tensorflow:loss = 29.6858, step = 4901\n",
      "INFO:tensorflow:Saving checkpoints for 5000 into /tmp/boston_model/model.ckpt.\n",
      "INFO:tensorflow:Loss for final step: 30.7742.\n"
     ]
    },
    {
     "data": {
      "text/plain": [
       "DNNRegressor(params={'head': <tensorflow.contrib.learn.python.learn.estimators.head._RegressionHead object at 0x11e117b10>, 'hidden_units': [10, 10], 'feature_columns': (_RealValuedColumn(column_name='crim', dimension=1, default_value=None, dtype=tf.float32, normalizer=None), _RealValuedColumn(column_name='zn', dimension=1, default_value=None, dtype=tf.float32, normalizer=None), _RealValuedColumn(column_name='indus', dimension=1, default_value=None, dtype=tf.float32, normalizer=None), _RealValuedColumn(column_name='nox', dimension=1, default_value=None, dtype=tf.float32, normalizer=None), _RealValuedColumn(column_name='rm', dimension=1, default_value=None, dtype=tf.float32, normalizer=None), _RealValuedColumn(column_name='age', dimension=1, default_value=None, dtype=tf.float32, normalizer=None), _RealValuedColumn(column_name='dis', dimension=1, default_value=None, dtype=tf.float32, normalizer=None), _RealValuedColumn(column_name='tax', dimension=1, default_value=None, dtype=tf.float32, normalizer=None), _RealValuedColumn(column_name='ptratio', dimension=1, default_value=None, dtype=tf.float32, normalizer=None)), 'embedding_lr_multipliers': None, 'optimizer': None, 'dropout': None, 'gradient_clip_norm': None, 'activation_fn': <function relu at 0x10d7612a8>, 'input_layer_min_slice_size': None})"
      ]
     },
     "execution_count": 20,
     "metadata": {},
     "output_type": "execute_result"
    }
   ],
   "source": [
    "regressor.fit(input_fn=lambda: input_fn(training_set), steps=5000)"
   ]
  },
  {
   "cell_type": "code",
   "execution_count": 21,
   "metadata": {},
   "outputs": [
    {
     "name": "stdout",
     "output_type": "stream",
     "text": [
      "WARNING:tensorflow:Rank of input Tensor (1) should be the same as output_rank (2) for column. Will attempt to expand dims. It is highly recommended that you resize your input, as this behavior may change.\n",
      "WARNING:tensorflow:Rank of input Tensor (1) should be the same as output_rank (2) for column. Will attempt to expand dims. It is highly recommended that you resize your input, as this behavior may change.\n",
      "WARNING:tensorflow:Rank of input Tensor (1) should be the same as output_rank (2) for column. Will attempt to expand dims. It is highly recommended that you resize your input, as this behavior may change.\n",
      "WARNING:tensorflow:Rank of input Tensor (1) should be the same as output_rank (2) for column. Will attempt to expand dims. It is highly recommended that you resize your input, as this behavior may change.\n",
      "WARNING:tensorflow:Rank of input Tensor (1) should be the same as output_rank (2) for column. Will attempt to expand dims. It is highly recommended that you resize your input, as this behavior may change.\n",
      "WARNING:tensorflow:Rank of input Tensor (1) should be the same as output_rank (2) for column. Will attempt to expand dims. It is highly recommended that you resize your input, as this behavior may change.\n",
      "WARNING:tensorflow:Rank of input Tensor (1) should be the same as output_rank (2) for column. Will attempt to expand dims. It is highly recommended that you resize your input, as this behavior may change.\n",
      "WARNING:tensorflow:Rank of input Tensor (1) should be the same as output_rank (2) for column. Will attempt to expand dims. It is highly recommended that you resize your input, as this behavior may change.\n",
      "WARNING:tensorflow:Rank of input Tensor (1) should be the same as output_rank (2) for column. Will attempt to expand dims. It is highly recommended that you resize your input, as this behavior may change.\n",
      "WARNING:tensorflow:From /Users/lipingzhang/anaconda/lib/python2.7/site-packages/tensorflow/contrib/learn/python/learn/estimators/head.py:1362: scalar_summary (from tensorflow.python.ops.logging_ops) is deprecated and will be removed after 2016-11-30.\n",
      "Instructions for updating:\n",
      "Please switch to tf.summary.scalar. Note that tf.summary.scalar uses the node name instead of the tag. This means that TensorFlow will automatically de-duplicate summary names based on the scope they are created in. Also, passing a tensor or list of tags to a scalar summary op is no longer supported.\n",
      "INFO:tensorflow:Starting evaluation at 2017-10-26-00:25:04\n",
      "INFO:tensorflow:Evaluation [1/1]\n",
      "INFO:tensorflow:Finished evaluation at 2017-10-26-00:25:04\n",
      "INFO:tensorflow:Saving dict for global step 5000: global_step = 5000, loss = 16.3261\n",
      "WARNING:tensorflow:Skipping summary for global_step, must be a float or np.float32.\n"
     ]
    }
   ],
   "source": [
    "ev = regressor.evaluate(input_fn=lambda: input_fn(test_set), steps = 1)"
   ]
  },
  {
   "cell_type": "code",
   "execution_count": 22,
   "metadata": {},
   "outputs": [
    {
     "name": "stdout",
     "output_type": "stream",
     "text": [
      "Loss: 16.326117\n"
     ]
    }
   ],
   "source": [
    "loss_score = ev[\"loss\"]\n",
    "print(\"Loss: {0:f}\".format(loss_score))"
   ]
  },
  {
   "cell_type": "code",
   "execution_count": 24,
   "metadata": {},
   "outputs": [
    {
     "name": "stdout",
     "output_type": "stream",
     "text": [
      "WARNING:tensorflow:Rank of input Tensor (1) should be the same as output_rank (2) for column. Will attempt to expand dims. It is highly recommended that you resize your input, as this behavior may change.\n",
      "WARNING:tensorflow:Rank of input Tensor (1) should be the same as output_rank (2) for column. Will attempt to expand dims. It is highly recommended that you resize your input, as this behavior may change.\n",
      "WARNING:tensorflow:Rank of input Tensor (1) should be the same as output_rank (2) for column. Will attempt to expand dims. It is highly recommended that you resize your input, as this behavior may change.\n",
      "WARNING:tensorflow:Rank of input Tensor (1) should be the same as output_rank (2) for column. Will attempt to expand dims. It is highly recommended that you resize your input, as this behavior may change.\n",
      "WARNING:tensorflow:Rank of input Tensor (1) should be the same as output_rank (2) for column. Will attempt to expand dims. It is highly recommended that you resize your input, as this behavior may change.\n",
      "WARNING:tensorflow:Rank of input Tensor (1) should be the same as output_rank (2) for column. Will attempt to expand dims. It is highly recommended that you resize your input, as this behavior may change.\n",
      "WARNING:tensorflow:Rank of input Tensor (1) should be the same as output_rank (2) for column. Will attempt to expand dims. It is highly recommended that you resize your input, as this behavior may change.\n",
      "WARNING:tensorflow:Rank of input Tensor (1) should be the same as output_rank (2) for column. Will attempt to expand dims. It is highly recommended that you resize your input, as this behavior may change.\n",
      "WARNING:tensorflow:Rank of input Tensor (1) should be the same as output_rank (2) for column. Will attempt to expand dims. It is highly recommended that you resize your input, as this behavior may change.\n",
      "Predictions: [35.791576, 18.658943, 24.397549, 36.567764, 16.061752, 20.300821]\n"
     ]
    }
   ],
   "source": [
    "y = regressor.predict(input_fn=lambda: input_fn(prediction_set))\n",
    "# .predict() returns an iterator; convert to a list and print predictions\n",
    "predictions = list(itertools.islice(y, 6))\n",
    "print(\"Predictions: {}\".format(str(predictions)))"
   ]
  },
  {
   "cell_type": "code",
   "execution_count": null,
   "metadata": {
    "collapsed": true
   },
   "outputs": [],
   "source": []
  }
 ],
 "metadata": {
  "kernelspec": {
   "display_name": "Python 2",
   "language": "python",
   "name": "python2"
  },
  "language_info": {
   "codemirror_mode": {
    "name": "ipython",
    "version": 2
   },
   "file_extension": ".py",
   "mimetype": "text/x-python",
   "name": "python",
   "nbconvert_exporter": "python",
   "pygments_lexer": "ipython2",
   "version": "2.7.13"
  }
 },
 "nbformat": 4,
 "nbformat_minor": 2
}
