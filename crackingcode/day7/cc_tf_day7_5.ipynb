{
 "cells": [
  {
   "cell_type": "code",
   "execution_count": null,
   "metadata": {
    "collapsed": true
   },
   "outputs": [],
   "source": [
    "  ...create graph...\n",
    "  my_train_op = ...\n",
    "\n",
    "  sv = tf.train.Supervisor(logdir=\"/my/training/directory\")\n",
    "  with sv.managed_session() as sess:\n",
    "    for step in range(100000):\n",
    "      if sv.should_stop():\n",
    "        break\n",
    "      sess.run(my_train_op)"
   ]
  },
  {
   "cell_type": "code",
   "execution_count": null,
   "metadata": {
    "collapsed": true
   },
   "outputs": [],
   "source": [
    " ...create graph...\n",
    "  my_train_op = ...\n",
    "  my_summary_op = tf.summary.merge_all()\n",
    "\n",
    "  sv = tf.train.Supervisor(logdir=\"/my/training/directory\",\n",
    "                     summary_op=None) # Do not run the summary service\n",
    "  with sv.managed_session() as sess:\n",
    "    for step in range(100000):\n",
    "      if sv.should_stop():\n",
    "        break\n",
    "      if step % 100 == 0:\n",
    "        _, summ = session.run([my_train_op, my_summary_op])\n",
    "        sv.summary_computed(sess, summ)\n",
    "      else:\n",
    "        session.run(my_train_op)"
   ]
  },
  {
   "cell_type": "code",
   "execution_count": null,
   "metadata": {
    "collapsed": true
   },
   "outputs": [],
   "source": [
    "  ...create graph...\n",
    "  # Create a saver that restores only the pre-trained variables.\n",
    "  pre_train_saver = tf.train.Saver([pre_train_var1, pre_train_var2])\n",
    "\n",
    "  # Define an init function that loads the pretrained checkpoint.\n",
    "  def load_pretrain(sess):\n",
    "    pre_train_saver.restore(sess, \"<path to pre-trained-checkpoint>\")\n",
    "\n",
    "  # Pass the init function to the supervisor.\n",
    "  #\n",
    "  # The init function is called _after_ the variables have been initialized\n",
    "  # by running the init_op.\n",
    "  sv = tf.train.Supervisor(logdir=\"/my/training/directory\",\n",
    "                     init_fn=load_pretrain)\n",
    "  with sv.managed_session() as sess:\n",
    "    # Here sess was either initialized from the pre-trained-checkpoint or\n",
    "    # recovered from a checkpoint saved in a previous run of this code.\n",
    "    ..."
   ]
  },
  {
   "cell_type": "code",
   "execution_count": null,
   "metadata": {
    "collapsed": true
   },
   "outputs": [],
   "source": [
    "def my_additional_sumaries(sv, sess):\n",
    " ...fetch and write summaries, see below...\n",
    "\n",
    "...\n",
    "  sv = tf.train.Supervisor(logdir=\"/my/training/directory\")\n",
    "  with sv.managed_session() as sess:\n",
    "    # Call my_additional_sumaries() every 1200s, or 20mn,\n",
    "    # passing (sv, sess) as arguments.\n",
    "    sv.loop(1200, my_additional_sumaries, args=(sv, sess))\n",
    "    ...main training loop..."
   ]
  },
  {
   "cell_type": "code",
   "execution_count": null,
   "metadata": {
    "collapsed": true
   },
   "outputs": [],
   "source": [
    "def my_additional_sumaries(sv, sess):\n",
    "  summaries = sess.run(my_additional_summary_op)\n",
    "  sv.summary_computed(sess, summaries)"
   ]
  },
  {
   "cell_type": "code",
   "execution_count": null,
   "metadata": {
    "collapsed": true
   },
   "outputs": [],
   "source": [
    "# Use a custom Saver and checkpoint every 30 seconds.\n",
    "  ...create graph...\n",
    "  my_saver = tf.train.Saver(<only some variables>)\n",
    "  sv = tf.train.Supervisor(logdir=\"/my/training/directory\",\n",
    "                     saver=my_saver,\n",
    "                     save_model_secs=30)\n",
    "  with sv.managed_session() as sess:\n",
    "    ...training loop..."
   ]
  }
 ],
 "metadata": {
  "kernelspec": {
   "display_name": "Python 2",
   "language": "python",
   "name": "python2"
  },
  "language_info": {
   "codemirror_mode": {
    "name": "ipython",
    "version": 2
   },
   "file_extension": ".py",
   "mimetype": "text/x-python",
   "name": "python",
   "nbconvert_exporter": "python",
   "pygments_lexer": "ipython2",
   "version": "2.7.13"
  }
 },
 "nbformat": 4,
 "nbformat_minor": 2
}
