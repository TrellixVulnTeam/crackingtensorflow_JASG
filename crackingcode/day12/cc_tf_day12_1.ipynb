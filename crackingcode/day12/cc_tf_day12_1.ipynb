{
 "cells": [
  {
   "cell_type": "code",
   "execution_count": null,
   "metadata": {
    "collapsed": true
   },
   "outputs": [],
   "source": [
    "# Sequence-to-Sequence Models\n",
    "#cd models/tutorials/rnn/translate\n",
    "#python translate.py --data_dir [your_data_directory]\n",
    "\n",
    "outputs, states = basic_rnn_seq2seq(encoder_inputs, decoder_inputs, cell)"
   ]
  },
  {
   "cell_type": "code",
   "execution_count": null,
   "metadata": {
    "collapsed": true
   },
   "outputs": [],
   "source": [
    "outputs, states = embedding_rnn_seq2seq(\n",
    "    encoder_inputs, decoder_inputs, cell,\n",
    "    num_encoder_symbols, num_decoder_symbols,\n",
    "    embedding_size, output_projection=None,\n",
    "    feed_previous=False)"
   ]
  },
  {
   "cell_type": "code",
   "execution_count": null,
   "metadata": {
    "collapsed": true
   },
   "outputs": [],
   "source": [
    "if num_samples > 0 and num_samples < self.target_vocab_size:\n",
    "  w_t = tf.get_variable(\"proj_w\", [self.target_vocab_size, size], dtype=dtype)\n",
    "  w = tf.transpose(w_t)\n",
    "  b = tf.get_variable(\"proj_b\", [self.target_vocab_size], dtype=dtype)\n",
    "  output_projection = (w, b)\n",
    "\n",
    "  def sampled_loss(labels, inputs):\n",
    "    labels = tf.reshape(labels, [-1, 1])\n",
    "    # We need to compute the sampled_softmax_loss using 32bit floats to\n",
    "    # avoid numerical instabilities.\n",
    "    local_w_t = tf.cast(w_t, tf.float32)\n",
    "    local_b = tf.cast(b, tf.float32)\n",
    "    local_inputs = tf.cast(inputs, tf.float32)\n",
    "    return tf.cast(\n",
    "        tf.nn.sampled_softmax_loss(\n",
    "            weights=local_w_t,\n",
    "            biases=local_b,\n",
    "            labels=labels,\n",
    "            inputs=local_inputs,\n",
    "            num_sampled=num_samples,\n",
    "            num_classes=self.target_vocab_size),\n",
    "        dtype)"
   ]
  },
  {
   "cell_type": "code",
   "execution_count": null,
   "metadata": {
    "collapsed": true
   },
   "outputs": [],
   "source": [
    "if output_projection is not None:\n",
    "  for b in xrange(len(buckets)):\n",
    "    self.outputs[b] = [tf.matmul(output, output_projection[0]) +\n",
    "                       output_projection[1] for ...]"
   ]
  },
  {
   "cell_type": "code",
   "execution_count": null,
   "metadata": {
    "collapsed": true
   },
   "outputs": [],
   "source": [
    "buckets = [(5, 10), (10, 15), (20, 25), (40, 50)]"
   ]
  },
  {
   "cell_type": "code",
   "execution_count": null,
   "metadata": {
    "collapsed": true
   },
   "outputs": [],
   "source": [
    "#python translate.py\n",
    "#  --data_dir [your_data_directory] --train_dir [checkpoints_directory]\n",
    "#  --en_vocab_size=40000 --fr_vocab_size=40000"
   ]
  },
  {
   "cell_type": "code",
   "execution_count": null,
   "metadata": {
    "collapsed": true
   },
   "outputs": [],
   "source": []
  },
  {
   "cell_type": "code",
   "execution_count": null,
   "metadata": {
    "collapsed": true
   },
   "outputs": [],
   "source": [
    "# smaller \n",
    "\n",
    "#python translate.py\n",
    "#  --data_dir [your_data_directory] --train_dir [checkpoints_directory]\n",
    "#  --size=256 --num_layers=2 --steps_per_checkpoint=50"
   ]
  },
  {
   "cell_type": "code",
   "execution_count": null,
   "metadata": {
    "collapsed": true
   },
   "outputs": [],
   "source": [
    "# translate from English to Franch\n",
    "\n",
    "#python translate.py --decode\n",
    "#  --data_dir [your_data_directory] --train_dir [checkpoints_directory]"
   ]
  }
 ],
 "metadata": {
  "kernelspec": {
   "display_name": "Python 2",
   "language": "python",
   "name": "python2"
  },
  "language_info": {
   "codemirror_mode": {
    "name": "ipython",
    "version": 2
   },
   "file_extension": ".py",
   "mimetype": "text/x-python",
   "name": "python",
   "nbconvert_exporter": "python",
   "pygments_lexer": "ipython2",
   "version": "2.7.13"
  }
 },
 "nbformat": 4,
 "nbformat_minor": 2
}
