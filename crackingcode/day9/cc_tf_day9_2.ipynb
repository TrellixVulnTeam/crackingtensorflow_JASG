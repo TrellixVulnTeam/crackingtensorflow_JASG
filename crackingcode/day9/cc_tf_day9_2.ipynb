{
 "cells": [
  {
   "cell_type": "code",
   "execution_count": null,
   "metadata": {
    "collapsed": true
   },
   "outputs": [],
   "source": [
    "# How to Retrain Inception's Final Layer for New Categories\n",
    "\n",
    "# https://www.flickr.com/\n",
    "#cd ~\n",
    "#curl -O http://download.tensorflow.org/example_images/flower_photos.tgz\n",
    "#tar xzf flower_photos.tgz\n",
    "\n",
    "#bazel build tensorflow/examples/image_retraining:retrain\n",
    "\n",
    "\n",
    "# fixing bazel version issue, no larger than bazel_0.5.4\n",
    "# https://github.com/bazelbuild/bazel/releases\n",
    "# https://docs.bazel.build/versions/master/install-os-x.html\n",
    "#chmod +x bazel-0.5.4-installer-darwin-x86_64.sh \n",
    "#./bazel-0.5.4-installer-darwin-x86_64.sh --user\n",
    "#export PATH=\"$PATH:$HOME/bin\"\n",
    "\n",
    "\n",
    "# go to root fo tensorflow source code\n",
    "#cd /Users/lipingzhang/Desktop/program/jd/tensorflow/tensorflow\n",
    "#bazel build tensorflow/examples/image_retraining:retrain\n",
    "\n",
    "\n",
    "#bazel-bin/tensorflow/examples/image_retraining/retrain --image_dir ~/flower_photos\n",
    "\n",
    "#tensorboard --logdir /tmp/retrain_logs\n",
    "#http://0.0.0.0:6006/\n",
    "\n",
    "\n",
    "bazel build tensorflow/examples/label_image:label_image && \\\n",
    "bazel-bin/tensorflow/examples/label_image/label_image \\\n",
    "--graph=/tmp/output_graph.pb --labels=/tmp/output_labels.txt \\\n",
    "--output_layer=final_result \\\n",
    "--image=$HOME/flower_photos/daisy/21652746_cc379e0eea_m.jpg\n",
    "--input_layer=Mul\n",
    "\n",
    "# --use_saved_model=false\n",
    "\n",
    "\n",
    "# https://www.jefftk.com/p/detecting-tanks"
   ]
  }
 ],
 "metadata": {
  "kernelspec": {
   "display_name": "Python 2",
   "language": "python",
   "name": "python2"
  },
  "language_info": {
   "codemirror_mode": {
    "name": "ipython",
    "version": 2
   },
   "file_extension": ".py",
   "mimetype": "text/x-python",
   "name": "python",
   "nbconvert_exporter": "python",
   "pygments_lexer": "ipython2",
   "version": "2.7.13"
  }
 },
 "nbformat": 4,
 "nbformat_minor": 2
}
