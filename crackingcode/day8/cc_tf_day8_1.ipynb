{
 "cells": [
  {
   "cell_type": "code",
   "execution_count": null,
   "metadata": {
    "collapsed": true
   },
   "outputs": [],
   "source": [
    "# TensorFlow Debugger (tfdbg) Command-Line-Interface Tutorial: MNIST\n",
    "\n",
    "# python -m tensorflow.python.debug.examples.debug_mnist"
   ]
  },
  {
   "cell_type": "code",
   "execution_count": 1,
   "metadata": {},
   "outputs": [
    {
     "ename": "NameError",
     "evalue": "name 'sess' is not defined",
     "output_type": "error",
     "traceback": [
      "\u001b[0;31m---------------------------------------------------------------------------\u001b[0m",
      "\u001b[0;31mNameError\u001b[0m                                 Traceback (most recent call last)",
      "\u001b[0;32m<ipython-input-1-4b2589886ecb>\u001b[0m in \u001b[0;36m<module>\u001b[0;34m()\u001b[0m\n\u001b[1;32m      5\u001b[0m \u001b[0;32mfrom\u001b[0m \u001b[0mtensorflow\u001b[0m\u001b[0;34m.\u001b[0m\u001b[0mpython\u001b[0m \u001b[0;32mimport\u001b[0m \u001b[0mdebug\u001b[0m \u001b[0;32mas\u001b[0m \u001b[0mtf_debug\u001b[0m\u001b[0;34m\u001b[0m\u001b[0m\n\u001b[1;32m      6\u001b[0m \u001b[0;34m\u001b[0m\u001b[0m\n\u001b[0;32m----> 7\u001b[0;31m \u001b[0msess\u001b[0m \u001b[0;34m=\u001b[0m \u001b[0mtf_debug\u001b[0m\u001b[0;34m.\u001b[0m\u001b[0mLocalCLIDebugWrapperSession\u001b[0m\u001b[0;34m(\u001b[0m\u001b[0msess\u001b[0m\u001b[0;34m)\u001b[0m\u001b[0;34m\u001b[0m\u001b[0m\n\u001b[0m\u001b[1;32m      8\u001b[0m \u001b[0msess\u001b[0m\u001b[0;34m.\u001b[0m\u001b[0madd_tensor_filter\u001b[0m\u001b[0;34m(\u001b[0m\u001b[0;34m\"has_inf_or_nan\"\u001b[0m\u001b[0;34m,\u001b[0m \u001b[0mtf_debug\u001b[0m\u001b[0;34m.\u001b[0m\u001b[0mhas_inf_or_nan\u001b[0m\u001b[0;34m)\u001b[0m\u001b[0;34m\u001b[0m\u001b[0m\n",
      "\u001b[0;31mNameError\u001b[0m: name 'sess' is not defined"
     ]
    }
   ],
   "source": [
    "# Let your BUILD target depend on \"//tensorflow/python/debug:debug_py\"\n",
    "# (You don't need to worry about the BUILD dependency if you are using a pip\n",
    "#  install of open-source TensorFlow.)\n",
    "\n",
    "from tensorflow.python import debug as tf_debug\n",
    "\n",
    "sess = tf_debug.LocalCLIDebugWrapperSession(sess)\n",
    "sess.add_tensor_filter(\"has_inf_or_nan\", tf_debug.has_inf_or_nan)"
   ]
  },
  {
   "cell_type": "code",
   "execution_count": null,
   "metadata": {
    "collapsed": true
   },
   "outputs": [],
   "source": [
    "def has_inf_or_nan(datum, tensor):\n",
    "  return np.any(np.isnan(tensor)) or np.any(np.isinf(tensor))"
   ]
  },
  {
   "cell_type": "code",
   "execution_count": null,
   "metadata": {
    "collapsed": true
   },
   "outputs": [],
   "source": [
    "#python -m tensorflow.python.debug.examples.debug_mnist --debug\n",
    "\n",
    "\n",
    "#pt hidden/Relu:0\n",
    "#run -t 10\n",
    "#run -f has_inf_or_nan"
   ]
  },
  {
   "cell_type": "code",
   "execution_count": null,
   "metadata": {
    "collapsed": true
   },
   "outputs": [],
   "source": [
    "# In python code:\n",
    "sess.add_tensor_filter('my_filter', my_filter_callable)\n",
    "\n",
    "# Run at tfdbg run-start prompt:\n",
    "#tfdbg> run -f my_filter\n",
    "\n",
    "#tfdbg> pt cross_entropy/Log:0\n",
    "#tfdbg> /inf\n",
    "#tfdbg> /(inf|nan)\n",
    "#tfdbg> ni cross_entropy/Log\n",
    "#pt softmax/Softmax:0\n",
    "#tfdbg> /0\\.000\n",
    "#tfdbg> ni -t cross_entropy/Log\n",
    "#tfdbg> quit\n",
    "\n",
    "#python -m tensorflow.python.debug.examples.debug_mnist --debug"
   ]
  },
  {
   "cell_type": "code",
   "execution_count": null,
   "metadata": {
    "collapsed": true
   },
   "outputs": [],
   "source": [
    "from tensorflow.python.debug import debug_utils\n",
    "\n",
    "# ... Code where your session and graph are set up...\n",
    "run_options = tf.RunOptions()\n",
    "debug_utils.watch_graph(\n",
    "    run_options,\n",
    "    session.graph,\n",
    "    debug_urls=[\"file:///shared/storage/location/tfdbg_dumps_1\"])\n",
    "\n",
    "# Be sure to use different directories for different run() calls.\n",
    "session.run(fetches, feed_dict=feeds, options=run_options)\n",
    "\n",
    "# python -m tensorflow.python.debug.cli.offline_analyzer \\\n",
    "    --dump_dir=/shared/storage/location/tfdbg_dumps_1"
   ]
  },
  {
   "cell_type": "code",
   "execution_count": null,
   "metadata": {
    "collapsed": true
   },
   "outputs": [],
   "source": [
    "# Let your BUILD target depend on \"//tensorflow/python/debug:debug_py\n",
    "# (You don't need to worry about the BUILD dependency if you are using a pip\n",
    "#  install of open-source TensorFlow.)\n",
    "from tensorflow.python.debubg import debug_utils\n",
    "sess = tf_debug.DumpingDebugWrapperSession(\n",
    "    sess, \"/shared/storage/location/tfdbg_dumps_1\", watch_fn=my_watch_fn)"
   ]
  },
  {
   "cell_type": "code",
   "execution_count": null,
   "metadata": {
    "collapsed": true
   },
   "outputs": [],
   "source": [
    "#tfdbg> pt cross_entropy/Log:0[:, 0:10] > /tmp/xent_value_slices.txt\n",
    "\n",
    "from tensorflow.python import debug as tf_debug\n",
    "\n",
    "# Then wrap your TensorFlow Session with the local-CLI wrapper.\n",
    "sess = tf_debug.LocalCLIDebugWrapperSession(sess)"
   ]
  },
  {
   "cell_type": "code",
   "execution_count": null,
   "metadata": {
    "collapsed": true
   },
   "outputs": [],
   "source": [
    "# Debugging shape mismatch during matrix multiplication.\n",
    "#python -m tensorflow.python.debug.examples.debug_errors --error shape_mismatch --debug\n",
    "\n",
    "# Debugging uninitialized variable.\n",
    "#python -m tensorflow.python.debug.examples.debug_errors --error uninitialized_variable --debug\n",
    "\n",
    "\n",
    "# What are the platform-specific system requirements of tfdbg CLI in open-source TensorFlow?\n",
    "# brew install homebrew/dupes/ncurses"
   ]
  }
 ],
 "metadata": {
  "kernelspec": {
   "display_name": "Python 2",
   "language": "python",
   "name": "python2"
  },
  "language_info": {
   "codemirror_mode": {
    "name": "ipython",
    "version": 2
   },
   "file_extension": ".py",
   "mimetype": "text/x-python",
   "name": "python",
   "nbconvert_exporter": "python",
   "pygments_lexer": "ipython2",
   "version": "2.7.13"
  }
 },
 "nbformat": 4,
 "nbformat_minor": 2
}
